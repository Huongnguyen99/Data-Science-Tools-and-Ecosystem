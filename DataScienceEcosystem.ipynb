{
  "metadata": {
    "language_info": {
      "codemirror_mode": {
        "name": "python",
        "version": 3
      },
      "file_extension": ".py",
      "mimetype": "text/x-python",
      "name": "python",
      "nbconvert_exporter": "python",
      "pygments_lexer": "ipython3",
      "version": "3.8"
    },
    "kernelspec": {
      "name": "python",
      "display_name": "Python (Pyodide)",
      "language": "python"
    }
  },
  "nbformat_minor": 4,
  "nbformat": 4,
  "cells": [
    {
      "cell_type": "markdown",
      "source": "# Data Science Tools and Ecosystem",
      "metadata": {}
    },
    {
      "cell_type": "markdown",
      "source": "In this notebook, Data Science Tools and Ecosystem are summarized.",
      "metadata": {}
    },
    {
      "cell_type": "markdown",
      "source": "Some of the popular languages that Data Scientists use are:\n\n1. Python: Python is one of the most popular languages for data science. It has a wide range of libraries and frameworks specifically designed for data analysis, machine learning, and visualization. Python's simplicity, readability, and vast community support make it a top choice for data scientists.\n\n2. R: R is a language specifically developed for statistical computing and data analysis. It provides a comprehensive set of packages and libraries for statistical modeling, data visualization, and machine learning. R is widely used in academia and industries where statistical analysis is a primary focus.\n\n3. SQL: SQL (Structured Query Language) is essential for working with structured databases. Data scientists often use SQL to extract, manipulate, and analyze data stored in relational databases. SQL enables efficient querying, joining, filtering, and aggregating of large datasets, making it a critical language for data exploration and manipulation.",
      "metadata": {}
    },
    {
      "cell_type": "markdown",
      "source": "Some of the commonly used libraries used by Data Scientists include:\n\n1. NumPy: NumPy is a fundamental library for scientific computing in Python. It provides support for large, multi-dimensional arrays and matrices, along with a collection of mathematical functions to operate on these arrays efficiently. NumPy forms the foundation for many other data science libraries in Python.\n\n2. Pandas: Pandas is a powerful data manipulation and analysis library. It offers data structures like DataFrames and Series, which provide flexible and efficient ways to handle structured data. Pandas enables tasks such as data cleaning, exploration, transformation, and aggregation, making it an essential tool for data scientists.\n\n3. scikit-learn: scikit-learn is a versatile machine learning library built on top of NumPy and SciPy. It provides a wide range of algorithms and tools for tasks such as classification, regression, clustering, and dimensionality reduction. scikit-learn is known for its user-friendly interface, extensive documentation, and strong community support.\n\n4. Matplotlib: Matplotlib is a popular plotting library in Python. It provides a flexible and comprehensive set of functions for creating a variety of static, animated, and interactive visualizations. Matplotlib is often used in conjunction with other libraries like NumPy and Pandas to visualize data and communicate insights effectively.\n\n5. TensorFlow: TensorFlow is an open-source library for machine learning and deep learning. It offers a flexible ecosystem for building and deploying machine learning models, particularly neural networks. TensorFlow provides efficient numerical computations and tools for distributed computing, making it suitable for both research and production-level applications.\n\n6. PyTorch: PyTorch is another powerful library for deep learning. It provides a dynamic computational graph and a flexible framework for building neural networks. PyTorch is favored by researchers and practitioners due to its ease of use, intuitive interface, and strong support for GPU acceleration.",
      "metadata": {}
    },
    {
      "cell_type": "markdown",
      "source": "| Data Science Tools |\n| ----------------- |\n| Jupyter Notebook  |\n| RStudio           |\n| Visual Studio Code |",
      "metadata": {}
    },
    {
      "cell_type": "markdown",
      "source": "### Below are a few examples of evaluating arithmetic expressions in Python.\n\nArithmetic expressions in Python involve various mathematical operations such as addition, subtraction, multiplication, and division. Python's flexibility and built-in mathematical operators make it convenient to perform these operations. Here are some examples:\n\n   ```python\n   result = 4 + 6\n   print(result)  # Output: 10",
      "metadata": {}
    },
    {
      "cell_type": "code",
      "source": "# This is a simple arithmetic expression to multiply then add integers.\nresult = (3 * 4) + 5\nprint(result)  # Output: 17",
      "metadata": {
        "trusted": true
      },
      "execution_count": 3,
      "outputs": [
        {
          "name": "stdout",
          "text": "17\n",
          "output_type": "stream"
        }
      ]
    },
    {
      "cell_type": "code",
      "source": "# This will convert 200 minutes to hours by dividing by 60.\nminutes = 200\nhours = minutes / 60\nprint(hours)  # Output: 3.3333333333333335",
      "metadata": {
        "trusted": true
      },
      "execution_count": 2,
      "outputs": [
        {
          "name": "stdout",
          "text": "3.3333333333333335\n",
          "output_type": "stream"
        }
      ]
    },
    {
      "cell_type": "markdown",
      "source": "**Objectives:**\n\n- List popular languages for Data Science\n- Introduce arithmetic expression examples\n- Explore Data Science libraries\n- Understand Jupyter Notebook and its features\n- Learn about GitHub and its functionalities",
      "metadata": {}
    },
    {
      "cell_type": "markdown",
      "source": "## Author\nHuong Nguyen",
      "metadata": {}
    },
    {
      "cell_type": "code",
      "source": "",
      "metadata": {},
      "execution_count": null,
      "outputs": []
    }
  ]
}